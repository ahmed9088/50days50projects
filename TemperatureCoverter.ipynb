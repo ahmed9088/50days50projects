{
  "nbformat": 4,
  "nbformat_minor": 0,
  "metadata": {
    "colab": {
      "provenance": [],
      "authorship_tag": "ABX9TyNB0bV8vvCHV9vfaFEC9xu+",
      "include_colab_link": true
    },
    "kernelspec": {
      "name": "python3",
      "display_name": "Python 3"
    },
    "language_info": {
      "name": "python"
    }
  },
  "cells": [
    {
      "cell_type": "markdown",
      "metadata": {
        "id": "view-in-github",
        "colab_type": "text"
      },
      "source": [
        "<a href=\"https://colab.research.google.com/github/ahmed9088/50days50projects/blob/main/TemperatureCoverter.ipynb\" target=\"_parent\"><img src=\"https://colab.research.google.com/assets/colab-badge.svg\" alt=\"Open In Colab\"/></a>"
      ]
    },
    {
      "cell_type": "code",
      "execution_count": 2,
      "metadata": {
        "colab": {
          "base_uri": "https://localhost:8080/",
          "height": 750
        },
        "id": "fWLJP7ziw8AB",
        "outputId": "6e6bfafe-8815-4157-d075-36434c4059a5"
      },
      "outputs": [
        {
          "output_type": "stream",
          "name": "stdout",
          "text": [
            "\u001b[2K   \u001b[90m━━━━━━━━━━━━━━━━━━━━━━━━━━━━━━━━━━━━━━━━\u001b[0m \u001b[32m54.2/54.2 MB\u001b[0m \u001b[31m20.4 MB/s\u001b[0m eta \u001b[36m0:00:00\u001b[0m\n",
            "\u001b[2K   \u001b[90m━━━━━━━━━━━━━━━━━━━━━━━━━━━━━━━━━━━━━━━━\u001b[0m \u001b[32m323.1/323.1 kB\u001b[0m \u001b[31m24.4 MB/s\u001b[0m eta \u001b[36m0:00:00\u001b[0m\n",
            "\u001b[2K   \u001b[90m━━━━━━━━━━━━━━━━━━━━━━━━━━━━━━━━━━━━━━━━\u001b[0m \u001b[32m95.2/95.2 kB\u001b[0m \u001b[31m6.7 MB/s\u001b[0m eta \u001b[36m0:00:00\u001b[0m\n",
            "\u001b[2K   \u001b[90m━━━━━━━━━━━━━━━━━━━━━━━━━━━━━━━━━━━━━━━━\u001b[0m \u001b[32m11.5/11.5 MB\u001b[0m \u001b[31m138.5 MB/s\u001b[0m eta \u001b[36m0:00:00\u001b[0m\n",
            "\u001b[2K   \u001b[90m━━━━━━━━━━━━━━━━━━━━━━━━━━━━━━━━━━━━━━━━\u001b[0m \u001b[32m72.0/72.0 kB\u001b[0m \u001b[31m5.3 MB/s\u001b[0m eta \u001b[36m0:00:00\u001b[0m\n",
            "\u001b[2K   \u001b[90m━━━━━━━━━━━━━━━━━━━━━━━━━━━━━━━━━━━━━━━━\u001b[0m \u001b[32m62.5/62.5 kB\u001b[0m \u001b[31m5.1 MB/s\u001b[0m eta \u001b[36m0:00:00\u001b[0m\n",
            "\u001b[?25hIt looks like you are running Gradio on a hosted a Jupyter notebook. For the Gradio app to work, sharing must be enabled. Automatically setting `share=True` (you can turn this off by setting `share=False` in `launch()` explicitly).\n",
            "\n",
            "Colab notebook detected. To show errors in colab notebook, set debug=True in launch()\n",
            "* Running on public URL: https://127f9dfe839dbb9218.gradio.live\n",
            "\n",
            "This share link expires in 1 week. For free permanent hosting and GPU upgrades, run `gradio deploy` from the terminal in the working directory to deploy to Hugging Face Spaces (https://huggingface.co/spaces)\n"
          ]
        },
        {
          "output_type": "display_data",
          "data": {
            "text/plain": [
              "<IPython.core.display.HTML object>"
            ],
            "text/html": [
              "<div><iframe src=\"https://127f9dfe839dbb9218.gradio.live\" width=\"100%\" height=\"500\" allow=\"autoplay; camera; microphone; clipboard-read; clipboard-write;\" frameborder=\"0\" allowfullscreen></iframe></div>"
            ]
          },
          "metadata": {}
        },
        {
          "output_type": "execute_result",
          "data": {
            "text/plain": []
          },
          "metadata": {},
          "execution_count": 2
        }
      ],
      "source": [
        "# 📌 Install Gradio if not already installed\n",
        "!pip install gradio --quiet\n",
        "\n",
        "import gradio as gr\n",
        "\n",
        "# Temperature Conversion Logic\n",
        "def convert_temperature(value, from_unit, to_unit):\n",
        "    try:\n",
        "        value = float(value)\n",
        "    except ValueError:\n",
        "        return \"❌ Please enter a valid number.\"\n",
        "\n",
        "    if from_unit == to_unit:\n",
        "        return f\"✅ No conversion needed: {value}°{to_unit[0]}\"\n",
        "\n",
        "    # Convert to Celsius first\n",
        "    if from_unit == \"Celsius\":\n",
        "        temp_c = value\n",
        "    elif from_unit == \"Fahrenheit\":\n",
        "        temp_c = (value - 32) * 5/9\n",
        "    elif from_unit == \"Kelvin\":\n",
        "        temp_c = value - 273.15\n",
        "    else:\n",
        "        return \"❌ Invalid 'From' unit.\"\n",
        "\n",
        "    # Convert from Celsius to target unit\n",
        "    if to_unit == \"Celsius\":\n",
        "        result = temp_c\n",
        "    elif to_unit == \"Fahrenheit\":\n",
        "        result = (temp_c * 9/5) + 32\n",
        "    elif to_unit == \"Kelvin\":\n",
        "        result = temp_c + 273.15\n",
        "    else:\n",
        "        return \"❌ Invalid 'To' unit.\"\n",
        "\n",
        "    return f\"{value}°{from_unit[0]} = {round(result, 2)}°{to_unit[0]}\"\n",
        "\n",
        "# Gradio UI\n",
        "units = [\"Celsius\", \"Fahrenheit\", \"Kelvin\"]\n",
        "\n",
        "iface = gr.Interface(\n",
        "    fn=convert_temperature,\n",
        "    inputs=[\n",
        "        gr.Textbox(label=\"Enter Temperature\"),\n",
        "        gr.Dropdown(choices=units, label=\"From Unit\"),\n",
        "        gr.Dropdown(choices=units, label=\"To Unit\"),\n",
        "    ],\n",
        "    outputs=\"text\",\n",
        "    title=\"🌡️ Temperature Converter\",\n",
        "    description=\"Convert between Celsius, Fahrenheit, and Kelvin easily using this UI.\"\n",
        ")\n",
        "\n",
        "iface.launch()\n"
      ]
    },
    {
      "cell_type": "code",
      "source": [],
      "metadata": {
        "id": "qtuaSyF8xj3x"
      },
      "execution_count": null,
      "outputs": []
    }
  ]
}